{
 "cells": [
  {
   "cell_type": "code",
   "execution_count": null,
   "id": "8f81b967-a18f-43cf-a5e5-476c1625bd2b",
   "metadata": {},
   "outputs": [],
   "source": []
  },
  {
   "cell_type": "code",
   "execution_count": 3,
   "id": "e3e617f7-42c0-4e50-9deb-03b3e564b859",
   "metadata": {},
   "outputs": [
    {
     "name": "stdin",
     "output_type": "stream",
     "text": [
      "Enter the height of triangle 7\n",
      "Enter the base  of triangle 9\n"
     ]
    },
    {
     "name": "stdout",
     "output_type": "stream",
     "text": [
      "The area of triangle is : 31.5\n"
     ]
    }
   ],
   "source": [
    "h = int(input(\"Enter the height of triangle\"))\n",
    "b = int(input(\"Enter the base  of triangle\"))\n",
    "\n",
    "area = 0.5*b*h\n",
    "print(\"The area of triangle is :\",area)"
   ]
  },
  {
   "cell_type": "code",
   "execution_count": null,
   "id": "dcd94d14-637e-429b-b1bf-fcd6769c96b3",
   "metadata": {},
   "outputs": [],
   "source": []
  },
  {
   "cell_type": "code",
   "execution_count": null,
   "id": "69c04cb2-5f36-4aa6-b716-be6f2ac2d047",
   "metadata": {},
   "outputs": [],
   "source": []
  },
  {
   "cell_type": "code",
   "execution_count": null,
   "id": "54ac3ff8-4e8c-4d00-811d-82259e2ea9f9",
   "metadata": {},
   "outputs": [],
   "source": []
  },
  {
   "cell_type": "code",
   "execution_count": null,
   "id": "2b0c913c-db1e-4dc8-86ce-5f9540d9464f",
   "metadata": {},
   "outputs": [],
   "source": []
  },
  {
   "cell_type": "code",
   "execution_count": 21,
   "id": "a1d30ef7-dd52-45c3-97ed-9e4319f15a3c",
   "metadata": {},
   "outputs": [
    {
     "name": "stdin",
     "output_type": "stream",
     "text": [
      "enter the angle 6012\n"
     ]
    },
    {
     "name": "stdout",
     "output_type": "stream",
     "text": [
      "it is a wrong input\n"
     ]
    }
   ],
   "source": [
    "angle = int(input(\"enter the angle\"))\n",
    "\n",
    "if angle < 90 and angle>0:\n",
    "    print(\"Accute angle\")\n",
    "elif angle==90:\n",
    "    print(\"Right angle\")\n",
    "elif angle > 90 and angle <180:\n",
    "    print(\"obtuse angle\")\n",
    "else:\n",
    "    print(\"it is a wrong input\")"
   ]
  },
  {
   "cell_type": "code",
   "execution_count": null,
   "id": "c14f3b9d-5574-4766-8fd9-3d82db432323",
   "metadata": {},
   "outputs": [],
   "source": []
  },
  {
   "cell_type": "code",
   "execution_count": null,
   "id": "195a9ba4-1237-4b22-ab6c-aa2efedfbe8a",
   "metadata": {},
   "outputs": [],
   "source": []
  },
  {
   "cell_type": "code",
   "execution_count": 81,
   "id": "4970b83e-115d-4047-9dfb-4038a4a0bf1d",
   "metadata": {},
   "outputs": [
    {
     "name": "stdin",
     "output_type": "stream",
     "text": [
      "Enter the a value 8\n",
      "Enter the b value 9\n"
     ]
    },
    {
     "name": "stdout",
     "output_type": "stream",
     "text": [
      "Addition of a  and b : 17\n",
      "Substraction of a  and b : -1\n",
      "Multiplication of a  and b : 72\n",
      "Division of a  and b : 0.8888888888888888\n"
     ]
    }
   ],
   "source": [
    "a = int(input(\"Enter the a value\"))\n",
    "b = int(input(\"Enter the b value\"))\n",
    "class Calculator:\n",
    "    def __init__(self,a,b):\n",
    "        self.a=a\n",
    "        self.b=b        \n",
    "\n",
    "    def add(self, a, b):\n",
    "        t = a+b\n",
    "        print(\"Addition of a  and b :\",t)\n",
    "        \n",
    "    def sub(self,a, b):\n",
    "        t = a-b\n",
    "        print(\"Substraction of a  and b :\",t)\n",
    "        \n",
    "    def mul(self,a, b):\n",
    "        t = a*b\n",
    "        print(\"Multiplication of a  and b :\",t)\n",
    "\n",
    "\n",
    "\n",
    "class lenova(Calculator):\n",
    "    def div(self, a, b):\n",
    "        t = a/b\n",
    "        print(\"Division of a  and b :\",t)\n",
    "\n",
    "\n",
    "calc = lenova(a,b)\n",
    "calc.add(a,b)\n",
    "calc.sub(a,b)\n",
    "calc.mul(a,b)\n",
    "calc.div(a,b)"
   ]
  },
  {
   "cell_type": "code",
   "execution_count": null,
   "id": "fb4837de-96d2-4c7a-9119-efe78f7e276c",
   "metadata": {},
   "outputs": [],
   "source": []
  },
  {
   "cell_type": "code",
   "execution_count": null,
   "id": "ab902b0a-cabc-44ae-819c-51f6deda50cf",
   "metadata": {},
   "outputs": [],
   "source": []
  },
  {
   "cell_type": "code",
   "execution_count": 29,
   "id": "44fa6991-d473-4277-9a1d-3d0f9deaf514",
   "metadata": {},
   "outputs": [
    {
     "name": "stdin",
     "output_type": "stream",
     "text": [
      "enter the title of the  name  maharshi\n",
      "enter the director name  directer\n",
      "enter the Hero  name  mahesh\n",
      "enter how much you want ratie  10\n"
     ]
    },
    {
     "name": "stdout",
     "output_type": "stream",
     "text": [
      " maharshi  film is directed by directer and its rating is 10.0\n",
      " Title is = maharshi\n",
      " Directed is = directer\n",
      " Rating is = 10.0\n",
      "  its a superstar mahesh's film\n"
     ]
    }
   ],
   "source": [
    "T = input(\"enter the title of the  name \")\n",
    "D = input(\"enter the director name \")\n",
    "H = input(\"enter the Hero  name \")\n",
    "R = float(input(\"enter how much you want ratie \"))\n",
    "\n",
    "class movie:\n",
    "  def __init__(self,T,D,R,H):\n",
    "    self.T = T\n",
    "    self.D = D\n",
    "    self.R = R\n",
    "    self.H = H\n",
    "      \n",
    "\n",
    "  def arun(self):\n",
    "      print(f\" {self.T}  film is directed by {self.D} and its rating is {self.R}\")\n",
    "  def varun(self):\n",
    "      print(f\" Title is = {self.T}\")\n",
    "      print(f\" Directed is = {self.D}\")\n",
    "      print(f\" Rating is = {self.R}\")\n",
    "\n",
    "class Film(movie):\n",
    "    def lenova(self):\n",
    "        print(f\"  its a superstar { self.H}'s film\")\n",
    "\n",
    "\n",
    "film = Film(T,D,R,H)\n",
    "film.arun()\n",
    "film.varun()\n",
    "film.lenova()"
   ]
  },
  {
   "cell_type": "code",
   "execution_count": null,
   "id": "c05990bd-b778-47db-8b6a-8362a5d2a8db",
   "metadata": {},
   "outputs": [],
   "source": []
  },
  {
   "cell_type": "code",
   "execution_count": null,
   "id": "c82e8108-60c7-4cff-a626-709d6aa0282c",
   "metadata": {},
   "outputs": [],
   "source": []
  },
  {
   "cell_type": "code",
   "execution_count": 49,
   "id": "2e325efa-a921-4f9f-9a32-7f98d3b2ac35",
   "metadata": {},
   "outputs": [
    {
     "name": "stdin",
     "output_type": "stream",
     "text": [
      "enter the BRAND you want  bmw\n",
      "enter the MODEL you want  1989\n",
      "enter the COLOR u want  red\n"
     ]
    },
    {
     "name": "stdout",
     "output_type": "stream",
     "text": [
      " The brand you want is bmw of model 1989 and its a red colour\n",
      " FEATURES :\n",
      " Car brand = bmw\n",
      " car Model = 1989\n",
      " car colour= red\n"
     ]
    }
   ],
   "source": [
    "\n",
    "B = input(\"enter the BRAND you want \")\n",
    "M = int(input(\"enter the MODEL you want \"))\n",
    "C = input(\"enter the COLOR u want \")\n",
    "\n",
    "class Vehicle:\n",
    "    def __init__(self, B, M, C):\n",
    "        self.B = B       \n",
    "        self.M = M        \n",
    "        self.C = C\n",
    "    def arun(self):\n",
    "        print(f\" The brand you want is {self.B} of model {self.M} and its a {self.C} colour\")\n",
    "\n",
    "\n",
    "class feat(Vehicle):\n",
    "    def varun(self):\n",
    "        print(f\" FEATURES :\")\n",
    "        print(f\" Car brand = {self.B}\")\n",
    "        print(f\" car Model = {self.M}\")\n",
    "        print(f\" car colour= {self.C}\")\n",
    "\n",
    "car = feat(B,M,C)\n",
    "car.arun()\n",
    "car.varun()"
   ]
  },
  {
   "cell_type": "code",
   "execution_count": null,
   "id": "72df8346-c318-468e-b340-c2ee4a2b82ac",
   "metadata": {},
   "outputs": [],
   "source": []
  },
  {
   "cell_type": "code",
   "execution_count": null,
   "id": "5e1b3bd0-7c81-42ce-b21a-ebec900b68a6",
   "metadata": {},
   "outputs": [],
   "source": []
  },
  {
   "cell_type": "code",
   "execution_count": 73,
   "id": "81eee7e2-19b8-4ab3-9bf4-ff9a7b44265b",
   "metadata": {},
   "outputs": [
    {
     "name": "stdin",
     "output_type": "stream",
     "text": [
      "enter the BRAND you want  bmw\n",
      "enter the MODEL you want  glc800\n",
      "enter the year you want  2023\n",
      "enter the COLOR u want  red\n"
     ]
    },
    {
     "name": "stdout",
     "output_type": "stream",
     "text": [
      " bike brand = bmw\n",
      " bike Model = glc800\n",
      " bike year  = 2023\n",
      " bike colour= red\n",
      " The brand you want in bike is bmw of model glc800 and the year of 2023 its  red colour\n",
      " it is ready for u\n"
     ]
    }
   ],
   "source": [
    "b = input(\"enter the BRAND you want \")\n",
    "m = input(\"enter the MODEL you want \")\n",
    "y = int(input(\"enter the year you want \"))\n",
    "c = input(\"enter the COLOR u want \")\n",
    "\n",
    "class Vehicle:\n",
    "    def __init__(self, b, m, c,y):\n",
    "        self.b = b       \n",
    "        self.m = m        \n",
    "        self.c = c\n",
    "        self.y = y\n",
    "    def aarun(self):\n",
    "        print(f\" bike brand = {self.b}\")\n",
    "        print(f\" bike Model = {self.m}\")\n",
    "        print(f\" bike year  = {self.y}\")\n",
    "        print(f\" bike colour= {self.c}\")\n",
    "\n",
    "\n",
    "class ffeat(Vehicle):\n",
    "    def vvarun(self):\n",
    "        print(f\" The brand you want in bike is {self.b} of model {self.m} and the year of {self.y} its  {self.c} colour\")\n",
    "        print(f\" it is ready for u\")\n",
    "        \n",
    "\n",
    "bike = ffeat(b,m,c,y)\n",
    "bike.aarun()\n",
    "bike.vvarun()"
   ]
  },
  {
   "cell_type": "code",
   "execution_count": null,
   "id": "cff5f567-2218-4831-a2b5-375af4780d52",
   "metadata": {},
   "outputs": [],
   "source": []
  },
  {
   "cell_type": "code",
   "execution_count": null,
   "id": "515158cc-4738-427a-bce4-8ac4a4b77f5a",
   "metadata": {},
   "outputs": [],
   "source": []
  },
  {
   "cell_type": "code",
   "execution_count": null,
   "id": "ad737f68-3702-4db7-9b20-fb0ff18d2850",
   "metadata": {},
   "outputs": [],
   "source": []
  },
  {
   "cell_type": "code",
   "execution_count": null,
   "id": "ac7c5572-7f38-4514-9090-95d5cb1b98e9",
   "metadata": {},
   "outputs": [],
   "source": []
  },
  {
   "cell_type": "code",
   "execution_count": 91,
   "id": "45f04fc0-4b55-4163-8bd5-cdef95f69740",
   "metadata": {},
   "outputs": [
    {
     "ename": "IndentationError",
     "evalue": "unexpected indent (3613141148.py, line 8)",
     "output_type": "error",
     "traceback": [
      "\u001b[1;36m  Cell \u001b[1;32mIn[91], line 8\u001b[1;36m\u001b[0m\n\u001b[1;33m    class Vehicle:\u001b[0m\n\u001b[1;37m    ^\u001b[0m\n\u001b[1;31mIndentationError\u001b[0m\u001b[1;31m:\u001b[0m unexpected indent\n"
     ]
    }
   ],
   "source": [
    "\n",
    "choice = input(\"Enter what you want car/Bike\")\n",
    "\n",
    "if choice == cars:\n",
    "    B = input(\"enter the BRAND you want \")\n",
    "    M = int(input(\"enter the MODEL you want \"))\n",
    "    C = input(\"enter the COLOR u want \")\n",
    "\n",
    "     class Vehicle:\n",
    "         B = input(\"enter the BRAND you want \")\n",
    "         M = int(input(\"enter the MODEL you want \"))\n",
    "         C = input(\"enter the COLOR u want \")\n",
    "         def __init__(self, B, M, C):\n",
    "             self.B = B\n",
    "             self.M = M\n",
    "             self.C = C\n",
    "         def arun(self):\n",
    "             print(f\" The brand you want is {self.B} of model {self.M} and its a {self.C} colour\")\n",
    "\n",
    "\n",
    "    class feat(Vehicle):\n",
    "        def varun(self):\n",
    "            print(f\" FEATURES :\")\n",
    "            print(f\" Car brand = {self.B}\")\n",
    "            print(f\" car Model = {self.M}\")\n",
    "            print(f\" car colour= {self.C}\")\n",
    "\n",
    "car = feat(B,M,C)\n",
    "car.arun()\n",
    "car.varun()\n",
    "\n",
    "else:\n",
    "\n",
    "class Bike:\n",
    "    b = input(\"enter the bike BRAND you want \")\n",
    "    m = input(\"enter the bike MODEL you want \")\n",
    "    y = int(input(\"enter bike the year you want \"))\n",
    "    c = input(\"enter the bike COLOR u want \")\n",
    "\n",
    "    def __init__(self, b, m, c,y):\n",
    "        self.b = b       \n",
    "        self.m = m        \n",
    "        self.c = c\n",
    "        self.y = y\n",
    "    def aarun(self):\n",
    "        print(f\" bike brand = {self.b}\")\n",
    "        print(f\" bike Model = {self.m}\")\n",
    "        print(f\" bike year  = {self.y}\")\n",
    "        print(f\" bike colour= {self.c}\")\n",
    "\n",
    "\n",
    "class ffeat(Bike):\n",
    "    def vvarun(self):\n",
    "        print(f\" The brand you want in bike is {self.b} of model {self.m} and the year of {self.y} its  {self.c} colour\")\n",
    "        print(f\" it is ready for u\")\n",
    "\n",
    "    \n",
    "\n",
    "\n",
    "bike = ffeat(b,m,c,y)\n",
    "bike.aarun()\n",
    "bike.vvarun()\n",
    "\n",
    "\n"
   ]
  },
  {
   "cell_type": "code",
   "execution_count": null,
   "id": "1c6bb211-7ba5-409f-abc8-4695d0026c69",
   "metadata": {},
   "outputs": [],
   "source": []
  }
 ],
 "metadata": {
  "kernelspec": {
   "display_name": "Python 3 (ipykernel)",
   "language": "python",
   "name": "python3"
  },
  "language_info": {
   "codemirror_mode": {
    "name": "ipython",
    "version": 3
   },
   "file_extension": ".py",
   "mimetype": "text/x-python",
   "name": "python",
   "nbconvert_exporter": "python",
   "pygments_lexer": "ipython3",
   "version": "3.12.4"
  }
 },
 "nbformat": 4,
 "nbformat_minor": 5
}
